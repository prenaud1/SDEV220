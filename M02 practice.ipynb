{
 "cells": [
  {
   "cell_type": "markdown",
   "id": "6d34dc4a-f6ab-40bc-bfb8-061101da87ca",
   "metadata": {},
   "source": [
    "_4.1 Choose a number between 1 and 10 and assign it to the variable secret. Then, select another number between 1 and 10 and assign it to the variable guess. Next, write the conditional tests (if, else, and elif) to print the string 'too low' if guess is less than secret, 'too high' if greater than secret, and 'just right' if equal to secret._"
   ]
  },
  {
   "cell_type": "code",
   "execution_count": 1,
   "id": "804f72ff-152c-431e-a500-7d3137cef703",
   "metadata": {},
   "outputs": [
    {
     "name": "stdout",
     "output_type": "stream",
     "text": [
      "just right\n"
     ]
    }
   ],
   "source": [
    "# 4.1\n",
    "secret = 3\n",
    "guess = 3\n",
    "if guess < secret:\n",
    "\tprint(\"too low\")\n",
    "elif guess > secret:\n",
    "\tprint(\"too high\")\n",
    "else:\n",
    "\tprint(\"just right\")"
   ]
  },
  {
   "cell_type": "markdown",
   "id": "5af8c05c-30d9-42d3-b898-34d26f6839df",
   "metadata": {},
   "source": [
    "_4.2 Assign True or False to the variables small and green. Write some if/else statements to print which of these matches those choices: cherry, pea, watermelon, pumpkin._"
   ]
  },
  {
   "cell_type": "code",
   "execution_count": 2,
   "id": "9b8ddad5-a749-417f-9c2a-6cbef9feef1f",
   "metadata": {},
   "outputs": [
    {
     "name": "stdout",
     "output_type": "stream",
     "text": [
      "pea\n"
     ]
    }
   ],
   "source": [
    "# 4.2\n",
    "small = True\n",
    "green = True\n",
    "if small:\n",
    "\tif green:\n",
    "\t\tprint(\"pea\")\n",
    "\telse:\n",
    "\t\tprint(\"cherry\")\n",
    "else:\n",
    "\tif green:\n",
    "\t\tprint(\"watermelon\")\n",
    "\telse:\n",
    "\t\tprint(\"pumpkin\")"
   ]
  },
  {
   "cell_type": "markdown",
   "id": "067aa72c-b5f8-4222-80ce-67954ca5e520",
   "metadata": {},
   "source": [
    "_6.1 Use a for loop to print the values of the list [3, 2, 1, 0]._"
   ]
  },
  {
   "cell_type": "code",
   "execution_count": 3,
   "id": "0b3cc8e8-2cad-4ec0-acc4-2aa05004222d",
   "metadata": {},
   "outputs": [
    {
     "name": "stdout",
     "output_type": "stream",
     "text": [
      "3\n",
      "2\n",
      "1\n",
      "0\n"
     ]
    }
   ],
   "source": [
    "# 6.1\n",
    "list = [3, 2, 1, 0]\n",
    "for _ in list:\n",
    "\tprint(_)"
   ]
  },
  {
   "cell_type": "markdown",
   "id": "f78d1fd7-a665-4cb7-9ec5-62cc36c48315",
   "metadata": {},
   "source": [
    "_6.2 Assign the value 7 to the variable guess_me, and the value 1 to the variable number. Write a while loop that compares number with guess_me. Print 'too low' if number is less than guess me. If number equals guess_me, print 'found it!' and then exit the loop. If number is greater than guess_me, print 'oops' and then exit the loop. Increment number at the end of the loop._"
   ]
  },
  {
   "cell_type": "code",
   "execution_count": 4,
   "id": "b3b364a6-fabd-49d1-be2e-d763784644e6",
   "metadata": {},
   "outputs": [
    {
     "name": "stdout",
     "output_type": "stream",
     "text": [
      "Guessing 1 ... too low\n",
      "Guessing 2 ... too low\n",
      "Guessing 3 ... too low\n",
      "Guessing 4 ... too low\n",
      "Guessing 5 ... too low\n",
      "Guessing 6 ... too low\n",
      "Guessing 7 ... found it!\n"
     ]
    }
   ],
   "source": [
    "# 6.2\n",
    "guess_me = 7\n",
    "number = 1\n",
    "while True:\n",
    "\tprint(\"Guessing\", number, \"... \", end=\"\")\n",
    "\tif number < guess_me:\n",
    "\t\tprint(\"too low\")\n",
    "\telif number == guess_me:\n",
    "\t\tprint(\"found it!\")\n",
    "\t\tbreak\n",
    "\telif number > guess_me:\n",
    "\t\tprint(\"oops\")\n",
    "\t\tbreak\n",
    "\tnumber += 1"
   ]
  },
  {
   "cell_type": "markdown",
   "id": "9601eb10-3ade-492d-8aca-61c19b8f4c04",
   "metadata": {},
   "source": [
    "_6.3 Assign the value 5 to the variable guess_me. Use a for loop to iterate a variable called number over range(10). If number is less than guess_me, print 'too low'. If it equals guess_me, print found it! and then break out of the for loop. If number is greater than guess_me, print 'oops' and then exit the loop._"
   ]
  },
  {
   "cell_type": "code",
   "execution_count": 5,
   "id": "cdfe22e6-b0d1-43dd-a6b6-e869d91fd9f9",
   "metadata": {},
   "outputs": [
    {
     "name": "stdout",
     "output_type": "stream",
     "text": [
      "Guessing 0 ... too low\n",
      "Guessing 1 ... too low\n",
      "Guessing 2 ... too low\n",
      "Guessing 3 ... too low\n",
      "Guessing 4 ... too low\n",
      "Guessing 5 ... found it!\n"
     ]
    }
   ],
   "source": [
    "#6.3\n",
    "guess_me = 5\n",
    "for number in range(10):\n",
    "\tprint(\"Guessing\", number, \"... \", end=\"\")\n",
    "\tif number < guess_me:\n",
    "\t\tprint(\"too low\")\n",
    "\telif number == guess_me:\n",
    "\t\tprint(\"found it!\")\n",
    "\t\tbreak\n",
    "\telif number > guess_me:\n",
    "\t\tprint(\"oops\")\n",
    "\t\tbreak"
   ]
  }
 ],
 "metadata": {
  "kernelspec": {
   "display_name": "Python 3 (ipykernel)",
   "language": "python",
   "name": "python3"
  },
  "language_info": {
   "codemirror_mode": {
    "name": "ipython",
    "version": 3
   },
   "file_extension": ".py",
   "mimetype": "text/x-python",
   "name": "python",
   "nbconvert_exporter": "python",
   "pygments_lexer": "ipython3",
   "version": "3.12.9"
  }
 },
 "nbformat": 4,
 "nbformat_minor": 5
}
